{
 "cells": [
  {
   "cell_type": "code",
   "execution_count": 12,
   "metadata": {},
   "outputs": [],
   "source": [
    "from pathlib import Path\n",
    "import pandas as pd\n",
    "import numpy as np\n",
    "import matplotlib.pyplot as plt\n",
    "from nptdms import TdmsFile\n",
    "import json\n",
    "# Path to data\n",
    "data_path = Path(\"../data/raw/\")\n",
    "# List of files\n",
    "files = list(data_path.glob(\"*.json\"))\n",
    "\n",
    "def read_json(filename):\n",
    "    \"\"\"Reads a json file and returns a pandas dataframe\"\"\"\n",
    "    return json.load(filename)"
   ]
  },
  {
   "cell_type": "code",
   "execution_count": 8,
   "metadata": {},
   "outputs": [],
   "source": [
    "def plot_data(data, title):\n",
    "    \"\"\"Plots data\"\"\"\n",
    "    fig, ax = plt.subplots()\n",
    "    ax.plot(data)\n",
    "    ax.set_title(title)\n",
    "    ax.set_xlabel(\"Time [s]\")\n",
    "    ax.set_ylabel(\"Voltage [V]\")\n",
    "    ax.grid()\n",
    "    return fig\n",
    "    "
   ]
  },
  {
   "cell_type": "code",
   "execution_count": 15,
   "metadata": {},
   "outputs": [
    {
     "data": {
      "text/plain": [
       "PosixPath('../data/raw/systems_1_healthy.json')"
      ]
     },
     "execution_count": 15,
     "metadata": {},
     "output_type": "execute_result"
    }
   ],
   "source": [
    "files[0]"
   ]
  },
  {
   "cell_type": "code",
   "execution_count": 13,
   "metadata": {},
   "outputs": [
    {
     "ename": "ValueError",
     "evalue": "Segment does not start with b'TDSm', but with b'{\"sy'",
     "output_type": "error",
     "traceback": [
      "\u001b[0;31m---------------------------------------------------------------------------\u001b[0m",
      "\u001b[0;31mValueError\u001b[0m                                Traceback (most recent call last)",
      "Cell \u001b[0;32mIn[13], line 1\u001b[0m\n\u001b[0;32m----> 1\u001b[0m time_series \u001b[39m=\u001b[39m read_TDMS(files[\u001b[39m0\u001b[39;49m])\n",
      "Cell \u001b[0;32mIn[5], line 14\u001b[0m, in \u001b[0;36mread_TDMS\u001b[0;34m(filename)\u001b[0m\n\u001b[1;32m     12\u001b[0m \u001b[39mdef\u001b[39;00m \u001b[39mread_TDMS\u001b[39m(filename):\n\u001b[1;32m     13\u001b[0m \u001b[39m    \u001b[39m\u001b[39m\"\"\"Reads TDMS file and returns a pandas dataframe\"\"\"\u001b[39;00m\n\u001b[0;32m---> 14\u001b[0m     \u001b[39mwith\u001b[39;00m TdmsFile\u001b[39m.\u001b[39;49mopen(filename) \u001b[39mas\u001b[39;00m tdms_file:\n\u001b[1;32m     15\u001b[0m         data \u001b[39m=\u001b[39m tdms_file\u001b[39m.\u001b[39mas_dataframe()\n\u001b[1;32m     16\u001b[0m     \u001b[39mreturn\u001b[39;00m data\n",
      "File \u001b[0;32m~/anaconda3/envs/PBSHM_mdof_env/lib/python3.10/site-packages/nptdms/tdms.py:87\u001b[0m, in \u001b[0;36mTdmsFile.open\u001b[0;34m(file, raw_timestamps, memmap_dir)\u001b[0m\n\u001b[1;32m     71\u001b[0m \u001b[39m@staticmethod\u001b[39m\n\u001b[1;32m     72\u001b[0m \u001b[39mdef\u001b[39;00m \u001b[39mopen\u001b[39m(file, raw_timestamps\u001b[39m=\u001b[39m\u001b[39mFalse\u001b[39;00m, memmap_dir\u001b[39m=\u001b[39m\u001b[39mNone\u001b[39;00m):\n\u001b[1;32m     73\u001b[0m \u001b[39m    \u001b[39m\u001b[39m\"\"\" Creates a new TdmsFile object and reads metadata, leaving the file open\u001b[39;00m\n\u001b[1;32m     74\u001b[0m \u001b[39m        to allow reading channel data\u001b[39;00m\n\u001b[1;32m     75\u001b[0m \n\u001b[0;32m   (...)\u001b[0m\n\u001b[1;32m     85\u001b[0m \u001b[39m        temporary file directory.\u001b[39;00m\n\u001b[1;32m     86\u001b[0m \u001b[39m    \"\"\"\u001b[39;00m\n\u001b[0;32m---> 87\u001b[0m     \u001b[39mreturn\u001b[39;00m TdmsFile(\n\u001b[1;32m     88\u001b[0m         file, raw_timestamps\u001b[39m=\u001b[39;49mraw_timestamps, memmap_dir\u001b[39m=\u001b[39;49mmemmap_dir, read_metadata_only\u001b[39m=\u001b[39;49m\u001b[39mTrue\u001b[39;49;00m, keep_open\u001b[39m=\u001b[39;49m\u001b[39mTrue\u001b[39;49;00m)\n",
      "File \u001b[0;32m~/anaconda3/envs/PBSHM_mdof_env/lib/python3.10/site-packages/nptdms/tdms.py:131\u001b[0m, in \u001b[0;36mTdmsFile.__init__\u001b[0;34m(self, file, raw_timestamps, memmap_dir, read_metadata_only, keep_open)\u001b[0m\n\u001b[1;32m    129\u001b[0m \u001b[39mself\u001b[39m\u001b[39m.\u001b[39m_reader \u001b[39m=\u001b[39m TdmsReader(file)\n\u001b[1;32m    130\u001b[0m \u001b[39mtry\u001b[39;00m:\n\u001b[0;32m--> 131\u001b[0m     \u001b[39mself\u001b[39;49m\u001b[39m.\u001b[39;49m_read_file(\n\u001b[1;32m    132\u001b[0m         \u001b[39mself\u001b[39;49m\u001b[39m.\u001b[39;49m_reader,\n\u001b[1;32m    133\u001b[0m         read_metadata_only \u001b[39mif\u001b[39;49;00m \u001b[39mnot\u001b[39;49;00m \u001b[39mself\u001b[39;49m\u001b[39m.\u001b[39;49m_reader\u001b[39m.\u001b[39;49mis_index_file_only() \u001b[39melse\u001b[39;49;00m \u001b[39mTrue\u001b[39;49;00m,\n\u001b[1;32m    134\u001b[0m         keep_open\n\u001b[1;32m    135\u001b[0m     )\n\u001b[1;32m    136\u001b[0m \u001b[39mfinally\u001b[39;00m:\n\u001b[1;32m    137\u001b[0m     \u001b[39mif\u001b[39;00m \u001b[39mnot\u001b[39;00m keep_open:\n",
      "File \u001b[0;32m~/anaconda3/envs/PBSHM_mdof_env/lib/python3.10/site-packages/nptdms/tdms.py:242\u001b[0m, in \u001b[0;36mTdmsFile._read_file\u001b[0;34m(self, tdms_reader, read_metadata_only, keep_open)\u001b[0m\n\u001b[1;32m    241\u001b[0m \u001b[39mdef\u001b[39;00m \u001b[39m_read_file\u001b[39m(\u001b[39mself\u001b[39m, tdms_reader, read_metadata_only, keep_open):\n\u001b[0;32m--> 242\u001b[0m     tdms_reader\u001b[39m.\u001b[39;49mread_metadata(require_segment_indexes\u001b[39m=\u001b[39;49mkeep_open)\n\u001b[1;32m    243\u001b[0m     \u001b[39mself\u001b[39m\u001b[39m.\u001b[39m_tdms_version \u001b[39m=\u001b[39m tdms_reader\u001b[39m.\u001b[39mtdms_version\n\u001b[1;32m    245\u001b[0m     \u001b[39m# Use object metadata to build group and channel objects\u001b[39;00m\n",
      "File \u001b[0;32m~/anaconda3/envs/PBSHM_mdof_env/lib/python3.10/site-packages/nptdms/reader.py:114\u001b[0m, in \u001b[0;36mTdmsReader.read_metadata\u001b[0;34m(self, require_segment_indexes)\u001b[0m\n\u001b[1;32m    112\u001b[0m start_position \u001b[39m=\u001b[39m file\u001b[39m.\u001b[39mtell()\n\u001b[1;32m    113\u001b[0m \u001b[39mtry\u001b[39;00m:\n\u001b[0;32m--> 114\u001b[0m     segment, properties \u001b[39m=\u001b[39m \u001b[39mself\u001b[39;49m\u001b[39m.\u001b[39;49m_read_segment_metadata(\n\u001b[1;32m    115\u001b[0m         file, segment_position, index_cache, previous_segment, reading_index_file)\n\u001b[1;32m    116\u001b[0m \u001b[39mexcept\u001b[39;00m \u001b[39mEOFError\u001b[39;00m:\n\u001b[1;32m    117\u001b[0m     \u001b[39m# We've finished reading the file\u001b[39;00m\n\u001b[1;32m    118\u001b[0m     \u001b[39mbreak\u001b[39;00m\n",
      "File \u001b[0;32m~/anaconda3/envs/PBSHM_mdof_env/lib/python3.10/site-packages/nptdms/reader.py:269\u001b[0m, in \u001b[0;36mTdmsReader._read_segment_metadata\u001b[0;34m(self, file, segment_position, index_cache, previous_segment, is_index_file)\u001b[0m\n\u001b[1;32m    267\u001b[0m \u001b[39mdef\u001b[39;00m \u001b[39m_read_segment_metadata\u001b[39m(\n\u001b[1;32m    268\u001b[0m         \u001b[39mself\u001b[39m, file, segment_position, index_cache, previous_segment, is_index_file):\n\u001b[0;32m--> 269\u001b[0m     (position, toc_mask, data_position, next_segment_pos, segment_incomplete) \u001b[39m=\u001b[39m \u001b[39mself\u001b[39;49m\u001b[39m.\u001b[39;49m_read_lead_in(\n\u001b[1;32m    270\u001b[0m         file, segment_position, is_index_file)\n\u001b[1;32m    272\u001b[0m     segment \u001b[39m=\u001b[39m TdmsSegment(\n\u001b[1;32m    273\u001b[0m         position, toc_mask, next_segment_pos, data_position)\n\u001b[1;32m    275\u001b[0m     properties \u001b[39m=\u001b[39m segment\u001b[39m.\u001b[39mread_segment_objects(\n\u001b[1;32m    276\u001b[0m         file, \u001b[39mself\u001b[39m\u001b[39m.\u001b[39m_prev_segment_objects, index_cache, previous_segment, segment_incomplete)\n",
      "File \u001b[0;32m~/anaconda3/envs/PBSHM_mdof_env/lib/python3.10/site-packages/nptdms/reader.py:287\u001b[0m, in \u001b[0;36mTdmsReader._read_lead_in\u001b[0;34m(self, file, segment_position, is_index_file)\u001b[0m\n\u001b[1;32m    285\u001b[0m tag \u001b[39m=\u001b[39m lead_in_bytes[:\u001b[39m4\u001b[39m]\n\u001b[1;32m    286\u001b[0m \u001b[39mif\u001b[39;00m tag \u001b[39m!=\u001b[39m expected_tag:\n\u001b[0;32m--> 287\u001b[0m     \u001b[39mraise\u001b[39;00m \u001b[39mValueError\u001b[39;00m(\n\u001b[1;32m    288\u001b[0m         \u001b[39m\"\u001b[39m\u001b[39mSegment does not start with \u001b[39m\u001b[39m%r\u001b[39;00m\u001b[39m, but with \u001b[39m\u001b[39m%r\u001b[39;00m\u001b[39m\"\u001b[39m \u001b[39m%\u001b[39m (expected_tag, tag))\n\u001b[1;32m    290\u001b[0m \u001b[39m# Next four bytes are table of contents mask\u001b[39;00m\n\u001b[1;32m    291\u001b[0m toc_mask \u001b[39m=\u001b[39m _struct_unpack(\u001b[39m'\u001b[39m\u001b[39m<l\u001b[39m\u001b[39m'\u001b[39m, lead_in_bytes[\u001b[39m4\u001b[39m:\u001b[39m8\u001b[39m])[\u001b[39m0\u001b[39m]\n",
      "\u001b[0;31mValueError\u001b[0m: Segment does not start with b'TDSm', but with b'{\"sy'"
     ]
    }
   ],
   "source": [
    "time_series = read_TDMS(files[0])\n"
   ]
  },
  {
   "cell_type": "code",
   "execution_count": null,
   "metadata": {},
   "outputs": [],
   "source": []
  }
 ],
 "metadata": {
  "kernelspec": {
   "display_name": "PBSHM_mdof_env",
   "language": "python",
   "name": "python3"
  },
  "language_info": {
   "codemirror_mode": {
    "name": "ipython",
    "version": 3
   },
   "file_extension": ".py",
   "mimetype": "text/x-python",
   "name": "python",
   "nbconvert_exporter": "python",
   "pygments_lexer": "ipython3",
   "version": "3.10.8 (main, Nov 24 2022, 14:13:03) [GCC 11.2.0]"
  },
  "orig_nbformat": 4,
  "vscode": {
   "interpreter": {
    "hash": "dd37c19e629dad01921e1c8c507b7221c3e274f366a1924bac7571971ffc236a"
   }
  }
 },
 "nbformat": 4,
 "nbformat_minor": 2
}
